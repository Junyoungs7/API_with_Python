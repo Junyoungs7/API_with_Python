{
  "nbformat": 4,
  "nbformat_minor": 0,
  "metadata": {
    "colab": {
      "name": "Naver_MovieApi_with_python.ipynb",
      "provenance": [],
      "collapsed_sections": [],
      "authorship_tag": "ABX9TyOE9zOa1Cxya6Ofz0VWIpsj",
      "include_colab_link": true
    },
    "kernelspec": {
      "name": "python3",
      "display_name": "Python 3"
    },
    "language_info": {
      "name": "python"
    }
  },
  "cells": [
    {
      "cell_type": "markdown",
      "metadata": {
        "id": "view-in-github",
        "colab_type": "text"
      },
      "source": [
        "<a href=\"https://colab.research.google.com/github/Junyoungs7/API_with_Python/blob/main/Naver_MovieApi_with_python.ipynb\" target=\"_parent\"><img src=\"https://colab.research.google.com/assets/colab-badge.svg\" alt=\"Open In Colab\"/></a>"
      ]
    },
    {
      "cell_type": "code",
      "execution_count": null,
      "metadata": {
        "colab": {
          "base_uri": "https://localhost:8080/"
        },
        "id": "Ezua7P78u3li",
        "outputId": "efb1c7a0-c0d6-4e4e-8304-fa82fce96a38"
      },
      "outputs": [
        {
          "output_type": "stream",
          "name": "stdout",
          "text": [
            "                    영화 제목                                                     네이버 링크 개봉 년도         감독                                         출연진    평점\n",
            "0               연애 빠진 로맨스  https://movie.naver.com/movie/bi/mi/basic.nhn?code=196809  2021        정가영                                  [전종서, 손석구]  8.31\n",
            "1                  완벽한 연애  https://movie.naver.com/movie/bi/mi/basic.nhn?code=195437  2020        송정규                              [조완진, 설아, 민도윤]   0.0\n",
            "2               가장 보통의 연애  https://movie.naver.com/movie/bi/mi/basic.nhn?code=182205  2019        김한결                                  [김래원, 공효진]  7.72\n",
            "3          연애의 참견: 사랑 공포증  https://movie.naver.com/movie/bi/mi/basic.nhn?code=195434  2019      타일러 콜                    [데이빗 렌젤, 아론 버트, 에밀리 피어스]  1.33\n",
            "4              연애: 엄마친구 2  https://movie.naver.com/movie/bi/mi/basic.nhn?code=185217  2018        김부곤                                          []   5.0\n",
            "5               차장님은 연애 중  https://movie.naver.com/movie/bi/mi/basic.nhn?code=181157  2018        안지희                             [최우정, 김유라, 최민제]  10.0\n",
            "6                파리는 연애 중  https://movie.naver.com/movie/bi/mi/basic.nhn?code=159673  2017     도미닉 바쉬  [안토니 드롱, 린다 하디, 데니스 마르샬, 레베카 햄프턴, 노에미 코체르]   0.0\n",
            "7           정사 : 결혼 말고 연애  https://movie.naver.com/movie/bi/mi/basic.nhn?code=149650  2016        조경훈                        [유소현, 주인철, 김유연, 안소희]  6.41\n",
            "8                  연애의 조건  https://movie.naver.com/movie/bi/mi/basic.nhn?code=157462  2016        황원선                                          []  10.0\n",
            "9               우리 연애의 이력  https://movie.naver.com/movie/bi/mi/basic.nhn?code=134987  2015        조성은                                  [전혜빈, 신민철]  7.92\n",
            "10                두 개의 연애  https://movie.naver.com/movie/bi/mi/basic.nhn?code=134835  2015        조성규                             [김재욱, 채정안, 박규리]  7.79\n",
            "11                목숨 건 연애  https://movie.naver.com/movie/bi/mi/basic.nhn?code=142263  2015        송민규                             [하지원, 천정명, 진백림]  4.29\n",
            "12                 자유연애시대  https://movie.naver.com/movie/bi/mi/basic.nhn?code=147362  2015         이전                                    [하얀, 장윤]  4.34\n",
            "13               연애세포 시즌2  https://movie.naver.com/movie/bi/mi/basic.nhn?code=145231  2015        김세훈                             [김유정, 임슬옹, 조보아]  6.67\n",
            "14                 오늘의 연애   https://movie.naver.com/movie/bi/mi/basic.nhn?code=74027  2014        박진표                        [이승기, 문채원, 이서진, 정준영]  6.64\n",
            "15                 근거리 연애  https://movie.naver.com/movie/bi/mi/basic.nhn?code=130880  2014   쿠마자와 나오토               [야마시타 토모히사, 고마츠 나나, 미즈카와 아사미]  5.97\n",
            "16  연애의 발동 : 상해 여자, 부산 남자  https://movie.naver.com/movie/bi/mi/basic.nhn?code=125483  2014        김태균                         [지진희, 진의함, 진학동, 혜림]  4.96\n",
            "17               내 연애의 기억  https://movie.naver.com/movie/bi/mi/basic.nhn?code=107987  2013         이권                                  [강예원, 송새벽]   6.8\n",
            "18              연애 징크스!!!  https://movie.naver.com/movie/bi/mi/basic.nhn?code=103671  2013   쿠마자와 나오토                      [효민, 시미즈 쿠루미, 야마자키 켄토]  6.99\n",
            "19                 연애의 기술  https://movie.naver.com/movie/bi/mi/basic.nhn?code=109912  2013        이수성                             [서지석, 홍수아, 한수아]  2.56\n",
            "20                의외적연애시광  https://movie.naver.com/movie/bi/mi/basic.nhn?code=108264  2013         여지                           [방조명, 곽채결, 아치 카오]   0.0\n",
            "21                 연애의 온도   https://movie.naver.com/movie/bi/mi/basic.nhn?code=96959  2012         노덕                                  [이민기, 김민희]  7.47\n",
            "22                 오싹한 연애   https://movie.naver.com/movie/bi/mi/basic.nhn?code=78851  2011        황인호                                  [손예진, 이민기]  8.54\n",
            "23         우리가 연애를 못하는 이유   https://movie.naver.com/movie/bi/mi/basic.nhn?code=80317  2011        윤여창                                  [최준용, 전세현]  8.38\n",
            "24             시라노; 연애조작단   https://movie.naver.com/movie/bi/mi/basic.nhn?code=73318  2010        김현석   [엄태웅, 이민정, 최다니엘, 박신혜, 박철민, 전역산, 송새벽, 류현경]  8.73\n",
            "25             소피의 연애 매뉴얼   https://movie.naver.com/movie/bi/mi/basic.nhn?code=51452  2009       에바 진                        [장쯔이, 소지섭, 판빙빙, 하윤동]  6.46\n",
            "26                   연애결혼   https://movie.naver.com/movie/bi/mi/basic.nhn?code=50285  2008        김형석                        [김민희, 김지훈, 윤세아, 박기웅]  8.83\n",
            "27                   연애시대   https://movie.naver.com/movie/bi/mi/basic.nhn?code=46339  2006        한지승                                  [감우성, 손예진]   9.6\n",
            "28                 연애의 목적   https://movie.naver.com/movie/bi/mi/basic.nhn?code=39863  2005        한재림                                  [박해일, 강혜정]  8.13\n",
            "29                 가족 연애사   https://movie.naver.com/movie/bi/mi/basic.nhn?code=59065  2005        김성덕                   [최종원, 이경표, 이매리, 추자현, 홍민희]  5.57\n",
            "30                   연애소설   https://movie.naver.com/movie/bi/mi/basic.nhn?code=65661  2004     모리 준이치                          [타마키 히로시, 코니시 마나미]   8.1\n",
            "31                   연애소설   https://movie.naver.com/movie/bi/mi/basic.nhn?code=34362  2002         이한                             [차태현, 이은주, 손예진]  8.99\n",
            "32           연애가정교사 미숙한포옹  https://movie.naver.com/movie/bi/mi/basic.nhn?code=142832  2000  츠네모토 타쿠아키                                  [나가시마 에이코]   0.0\n",
            "33        연애는 프로 결혼은 아마츄어   https://movie.naver.com/movie/bi/mi/basic.nhn?code=16221  1994        이두용                                  [강석우, 박선영]   8.5\n",
            "34                   연애센터  https://movie.naver.com/movie/bi/mi/basic.nhn?code=183665  1962    델머 데이브즈                          [트로이 도나휴, 수잔 프레셔티]   0.0\n",
            "35               연애탐정 셜록K  https://movie.naver.com/movie/bi/mi/basic.nhn?code=153135                                                           []   0.0\n",
            "36                  연애상담소  https://movie.naver.com/movie/bi/mi/basic.nhn?code=158636              조민정                        [함승아, 김해우, 심양수, 용하득]   0.0\n"
          ]
        }
      ],
      "source": [
        "import os\n",
        "import sys\n",
        "import requests\n",
        "import pandas as pd\n",
        "import json\n",
        "\n",
        "client_id = \"~\"\n",
        "client_secret = \"~\"\n",
        "movie = '연애'\n",
        "\n",
        "headers = {\n",
        "        'X-Naver-Client-Id': client_id,\n",
        "        'X-Naver-Client-Secret': client_secret,\n",
        "}\n",
        "\n",
        "url = f'https://openapi.naver.com/v1/search/movie.json?query={movie}&genre=5&display=100'\n",
        "\n",
        "response = requests.get(url, headers=headers)\n",
        "data = response.json()\n",
        "\n",
        "titles=[]\n",
        "links=[]\n",
        "dates=[]\n",
        "directors=[]\n",
        "actors=[]\n",
        "ratings=[]\n",
        "\n",
        "for i in data['items']:\n",
        "  titles.append(i['title'].strip('</b>').replace('<b>','').replace('</b>',''))\n",
        "  links.append(i['link'])\n",
        "  dates.append(i['pubDate'])\n",
        "  directors.append(i['director'].split('|')[0])\n",
        "  actors.append(i['actor'].split('|')[:-1])\n",
        "  ratings.append(float(i['userRating']))\n",
        "\n",
        "df = pd.DataFrame([titles, links, dates, directors, actors, ratings]).T\n",
        "df.columns = ['영화 제목', '네이버 링크', '개봉 년도', '감독', '출연진', '평점']\n",
        "\n",
        "print(df.to_string())"
      ]
    },
    {
      "cell_type": "code",
      "source": [
        ""
      ],
      "metadata": {
        "id": "vIxEFM85zcHK"
      },
      "execution_count": null,
      "outputs": []
    }
  ]
}